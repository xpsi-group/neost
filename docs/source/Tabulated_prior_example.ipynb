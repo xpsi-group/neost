{
 "cells": [
  {
   "cell_type": "markdown",
   "id": "a3ca7750",
   "metadata": {},
   "source": [
    "# Tabulated Prior Example\n",
    "The machinary and the explanation of them is identical to those found in the Piecewise Polytropic, Speed of Sound, and Tabulated Examples."
   ]
  },
  {
   "cell_type": "code",
   "execution_count": 1,
   "id": "60f596c5",
   "metadata": {},
   "outputs": [
    {
     "ename": "ModuleNotFoundError",
     "evalue": "No module named 'neost'",
     "output_type": "error",
     "traceback": [
      "\u001b[1;31m---------------------------------------------------------------------------\u001b[0m",
      "\u001b[1;31mModuleNotFoundError\u001b[0m                       Traceback (most recent call last)",
      "\u001b[1;32m<ipython-input-1-69d3f42d11b9>\u001b[0m in \u001b[0;36m<module>\u001b[1;34m\u001b[0m\n\u001b[1;32m----> 1\u001b[1;33m \u001b[1;32mimport\u001b[0m \u001b[0mneost\u001b[0m\u001b[1;33m\u001b[0m\u001b[1;33m\u001b[0m\u001b[0m\n\u001b[0m\u001b[0;32m      2\u001b[0m \u001b[1;32mfrom\u001b[0m \u001b[0mneost\u001b[0m\u001b[1;33m.\u001b[0m\u001b[0meos\u001b[0m \u001b[1;32mimport\u001b[0m \u001b[0mtabulated\u001b[0m\u001b[1;33m\u001b[0m\u001b[1;33m\u001b[0m\u001b[0m\n\u001b[0;32m      3\u001b[0m \u001b[1;32mfrom\u001b[0m \u001b[0mneost\u001b[0m\u001b[1;33m.\u001b[0m\u001b[0mPrior\u001b[0m \u001b[1;32mimport\u001b[0m \u001b[0mPrior\u001b[0m\u001b[1;33m\u001b[0m\u001b[1;33m\u001b[0m\u001b[0m\n\u001b[0;32m      4\u001b[0m \u001b[1;32mfrom\u001b[0m \u001b[0mneost\u001b[0m\u001b[1;33m.\u001b[0m\u001b[0mStar\u001b[0m \u001b[1;32mimport\u001b[0m \u001b[0mStar\u001b[0m\u001b[1;33m\u001b[0m\u001b[1;33m\u001b[0m\u001b[0m\n\u001b[0;32m      5\u001b[0m \u001b[1;32mfrom\u001b[0m \u001b[0mneost\u001b[0m\u001b[1;33m.\u001b[0m\u001b[0mLikelihood\u001b[0m \u001b[1;32mimport\u001b[0m \u001b[0mLikelihood\u001b[0m\u001b[1;33m\u001b[0m\u001b[1;33m\u001b[0m\u001b[0m\n",
      "\u001b[1;31mModuleNotFoundError\u001b[0m: No module named 'neost'"
     ]
    }
   ],
   "source": [
    "import neost\n",
    "from neost.eos import tabulated\n",
    "from neost.Prior import Prior\n",
    "from neost.Star import Star\n",
    "from neost.Likelihood import Likelihood\n",
    "from neost import PosteriorAnalysis\n",
    "from scipy.stats import multivariate_normal\n",
    "from scipy.stats import gaussian_kde\n",
    "import numpy as np\n",
    "import matplotlib\n",
    "from matplotlib import pyplot\n",
    "from pymultinest.solve import solve\n",
    "import time\n",
    "import os\n",
    "#if not os.path.exists(\"chains\"): \n",
    "#   os.mkdir(\"chains\")\n",
    "import neost.global_imports as global_imports\n",
    "\n",
    "# Some physical constants\n",
    "c = global_imports._c\n",
    "G = global_imports._G\n",
    "Msun = global_imports._M_s\n",
    "pi = global_imports._pi\n",
    "rho_ns = global_imports._rhons\n",
    "\n",
    "# Define name for run\n",
    "run_name = \"prior-tabulated-\""
   ]
  },
  {
   "cell_type": "code",
   "execution_count": null,
   "id": "733613f4",
   "metadata": {},
   "outputs": [],
   "source": [
    "# We're exploring a tabulated (T) EoS \n",
    "eos_name = 'tabulated'\n",
    "\n",
    "baryondensity, pressure_B, energydensity_B = np.loadtxt('ap4_new.dat', unpack=True) #in units of g/cm^3 for all values\n",
    "\n",
    "pressure_B = pressure_B*c**2 #(in units of g/(cm s^2))\n",
    "\n",
    "energydensity_B = energydensity_B\n",
    "\n",
    "# Defining the base EoS model\n",
    "tabulated_example = tabulated.TabulatedEoS(energydensity_B,pressure_B)\n",
    "tabulated_example.update({}, max_edsc=True)\n",
    "\n",
    "# Create the likelihoods for the individual measurements\n",
    "# Here just a simple 2D gaussian.\n",
    "\n",
    "muM = 2.0947   #synthetic source with log_10(central energy density) = 15.240180657118929\n",
    "muR = 10.808\n",
    "sigM = 0.05*muM # 5% uncertainty in mass \n",
    "sigR = 0.05*muR # 5% uncertainty in radius\n",
    "test = multivariate_normal(mean=[muM, muR], cov=[[sigM, 0.0], [0.0, sigR]])\n",
    "\n",
    "muM2 = 1.7090   #synthetic source with log_10(central energy density) = 15.07681219601247\n",
    "muR2 = 11.312\n",
    "sigM2 = 0.05*muM2 # 5% uncertainty in mass \n",
    "sigR2 = 0.05*muR2 # 5% uncertainty in radius\n",
    "test2 = multivariate_normal(mean=[muM2, muR2], cov=[[sigM2, 0.0], [0.0, sigR2]])\n",
    "\n",
    "muM3 = 1.0814   #synthetic source with log_10(central energy density) = 14.913443734906012\n",
    "muR3 = 11.4587\n",
    "sigM3 = 0.05*muM3 # 5% uncertainty in mass \n",
    "sigR3 = 0.05*muR3 # 5% uncertainty in radius\n",
    "test3 = multivariate_normal(mean=[muM3, muR3], cov=[[sigM3, 0.0], [0.0, sigR3]])\n",
    "\n",
    "likelihood_functions = [test.pdf,test2.pdf,test3.pdf]\n",
    "likelihood_params = [['Mass', 'Radius'],['Mass', 'Radius'],['Mass', 'Radius']]\n",
    "\n",
    "# This is not a GW event so we set chirp mass to None\n",
    "chirp_mass = [None, None, None]\n",
    "number_stars = len(chirp_mass)\n",
    "\n",
    "#Only vary the central densities on the sources because there are no parameters to vary in a tabulated equation of state\n",
    "variable_params = {}\n",
    "for i in range(number_stars):\n",
    "\tvariable_params.update({'rhoc_' + str(i+1):[14.6, 16]})"
   ]
  },
  {
   "cell_type": "code",
   "execution_count": null,
   "id": "dcb9660e",
   "metadata": {},
   "outputs": [],
   "source": [
    "# Define static parameters, empty dict because all params are variable \n",
    "static_params={}\n",
    "\n",
    "# Define prior\n",
    "prior = Prior(tabulated_example, variable_params, static_params, chirp_mass)\n",
    "\n",
    "print(\"Bounds of prior are\")\n",
    "print(variable_params)\n",
    "print(\"number of parameters is %d\" %len(variable_params))\n",
    "\n",
    "# Define likelihood, pseudo_var is required as input because NEoST expects to be able to pass the parameter sample drawn from the prior to be passable to the likelihood\n",
    "def loglike(pseudo_var):\n",
    "    return 1."
   ]
  },
  {
   "cell_type": "code",
   "execution_count": null,
   "id": "131a7ddb",
   "metadata": {},
   "outputs": [],
   "source": [
    "# No prior & likelihood test, there is no likelihood after all\n",
    "# print(\"Testing prior and likelihood\")\n",
    "# cube = np.random.rand(50, len(variable_params))\n",
    "# for i in range(len(cube)):\n",
    "#     par = prior.inverse_sample(cube[i])\n",
    "#     print(likelihood.call(par))\n",
    "# print(\"Testing done\")"
   ]
  },
  {
   "cell_type": "code",
   "execution_count": null,
   "id": "ed08098b",
   "metadata": {},
   "outputs": [],
   "source": [
    "# Then we start the sampling, note the greatly increased number of livepoints, this is required because each livepoint terminates after 1 iteration\n",
    "start = time.time()\n",
    "result = solve(LogLikelihood=loglike, Prior=prior.inverse_sample, n_live_points=100000, evidence_tolerance=0.1,\n",
    "               n_dims=len(variable_params), sampling_efficiency=0.8, outputfiles_basename='chains/' + run_name, verbose=True)\n",
    "end = time.time()\n",
    "print(end - start)"
   ]
  },
  {
   "cell_type": "code",
   "execution_count": null,
   "id": "82649837",
   "metadata": {},
   "outputs": [],
   "source": [
    "# Compute auxiliary data for posterior analysis\n",
    "PosteriorAnalysis.compute_auxiliary_data('chains/' + run_name, tabulated_example,\n",
    "                                         variable_params, static_params, chirp_mass)\n",
    "\n",
    "\n",
    "# Make some analysis plots\n",
    "PosteriorAnalysis.cornerplot('chains/' + run_name, variable_params)\n",
    "PosteriorAnalysis.mass_radius_posterior_plot('chains/' + run_name)\n",
    "\n",
    "#Will throw an error stating the the underling equation of state is fixed because there are no parameters to vary\n",
    "#for a tabulated EoS\n",
    "#PosteriorAnalysis.mass_radius_prior_predictive_plot('chains/' + run_name,variable_params, label_name='+ Synthetic dataset')\n",
    "#PosteriorAnalysis.eos_posterior_plot('chains/' + run_name,variable_params)\n"
   ]
  }
 ],
 "metadata": {
  "kernelspec": {
   "display_name": "Python 3",
   "language": "python",
   "name": "python3"
  },
  "language_info": {
   "codemirror_mode": {
    "name": "ipython",
    "version": 3
   },
   "file_extension": ".py",
   "mimetype": "text/x-python",
   "name": "python",
   "nbconvert_exporter": "python",
   "pygments_lexer": "ipython3",
   "version": "3.8.8"
  }
 },
 "nbformat": 4,
 "nbformat_minor": 5
}
