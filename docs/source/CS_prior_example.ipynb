{
 "cells": [
  {
   "cell_type": "markdown",
   "id": "c4534359",
   "metadata": {},
   "source": [
    "# Speed of Sound Prior Example\n",
    "The machinary and the explanation of them is identical to those found in the Piecewise Polytropic, Speed of Sound, and Tabulated Examples."
   ]
  },
  {
   "cell_type": "code",
   "execution_count": 1,
   "id": "e2791ed6",
   "metadata": {},
   "outputs": [
    {
     "ename": "ModuleNotFoundError",
     "evalue": "No module named 'neost'",
     "output_type": "error",
     "traceback": [
      "\u001b[1;31m---------------------------------------------------------------------------\u001b[0m",
      "\u001b[1;31mModuleNotFoundError\u001b[0m                       Traceback (most recent call last)",
      "\u001b[1;32m<ipython-input-1-920c6b8d2185>\u001b[0m in \u001b[0;36m<module>\u001b[1;34m\u001b[0m\n\u001b[1;32m----> 1\u001b[1;33m \u001b[1;32mimport\u001b[0m \u001b[0mneost\u001b[0m\u001b[1;33m\u001b[0m\u001b[1;33m\u001b[0m\u001b[0m\n\u001b[0m\u001b[0;32m      2\u001b[0m \u001b[1;32mfrom\u001b[0m \u001b[0mneost\u001b[0m\u001b[1;33m.\u001b[0m\u001b[0meos\u001b[0m \u001b[1;32mimport\u001b[0m \u001b[0mspeedofsound\u001b[0m\u001b[1;33m\u001b[0m\u001b[1;33m\u001b[0m\u001b[0m\n\u001b[0;32m      3\u001b[0m \u001b[1;32mfrom\u001b[0m \u001b[0mneost\u001b[0m\u001b[1;33m.\u001b[0m\u001b[0mPrior\u001b[0m \u001b[1;32mimport\u001b[0m \u001b[0mPrior\u001b[0m\u001b[1;33m\u001b[0m\u001b[1;33m\u001b[0m\u001b[0m\n\u001b[0;32m      4\u001b[0m \u001b[1;32mfrom\u001b[0m \u001b[0mneost\u001b[0m\u001b[1;33m.\u001b[0m\u001b[0mStar\u001b[0m \u001b[1;32mimport\u001b[0m \u001b[0mStar\u001b[0m\u001b[1;33m\u001b[0m\u001b[1;33m\u001b[0m\u001b[0m\n\u001b[0;32m      5\u001b[0m \u001b[1;32mfrom\u001b[0m \u001b[0mneost\u001b[0m\u001b[1;33m.\u001b[0m\u001b[0mLikelihood\u001b[0m \u001b[1;32mimport\u001b[0m \u001b[0mLikelihood\u001b[0m\u001b[1;33m\u001b[0m\u001b[1;33m\u001b[0m\u001b[0m\n",
      "\u001b[1;31mModuleNotFoundError\u001b[0m: No module named 'neost'"
     ]
    }
   ],
   "source": [
    "import neost\n",
    "from neost.eos import speedofsound\n",
    "from neost.Prior import Prior\n",
    "from neost.Star import Star\n",
    "from neost.Likelihood import Likelihood\n",
    "from neost import PosteriorAnalysis\n",
    "from scipy.stats import multivariate_normal\n",
    "from scipy.stats import gaussian_kde\n",
    "import numpy as np\n",
    "import matplotlib\n",
    "from matplotlib import pyplot\n",
    "from pymultinest.solve import solve\n",
    "import time\n",
    "import os\n",
    "#if not os.path.exists(\"chains\"): \n",
    "#   os.mkdir(\"chains\")\n",
    "\n",
    "import neost.global_imports as global_imports\n",
    "\n",
    "# Some physical constants\n",
    "c = global_imports._c\n",
    "G = global_imports._G\n",
    "Msun = global_imports._M_s\n",
    "pi = global_imports._pi\n",
    "rho_ns = global_imports._rhons\n",
    "\n",
    "# Define name for run\n",
    "run_name = \"prior-hebeler-cs-\"\n",
    "\n",
    "# We're exploring a speed of sound (CS) EoS parametrization with a chiral effective field theory (cEFT) parametrization based on Hebeler's work\n",
    "# Transition between CS parametrisation and cEFT parametrization occurs at 1.1*saturation density\n",
    "speedofsound_cs = speedofsound.SpeedofSoundEoS(crust = 'ceft-Hebeler', rho_t = 1.1*rho_ns)"
   ]
  },
  {
   "cell_type": "code",
   "execution_count": null,
   "id": "6ea3fb32",
   "metadata": {},
   "outputs": [],
   "source": [
    "# Create the likelihoods for the individual measurements\n",
    "mass_radius_j0740 = np.load('j0740.npy').T\n",
    "J0740_LL = gaussian_kde(mass_radius_j0740)\n",
    "\n",
    "# Pass the likelihoods to the solver\n",
    "likelihood_functions = [J0740_LL.pdf]\n",
    "likelihood_params = [['Mass', 'Radius']]\n",
    "\n",
    "# Define whether event is GW or not and define number of stars/events\n",
    "chirp_mass = [None, None]\n",
    "number_stars = len(chirp_mass)"
   ]
  },
  {
   "cell_type": "code",
   "execution_count": null,
   "id": "bb5d7855",
   "metadata": {},
   "outputs": [],
   "source": [
    "# Define variable parameters, same prior as previous papers of Raaijmakers et al\n",
    "variable_params={'ceft':[speedofsound_cs.min_norm, speedofsound_cs.max_norm],'a1':[0.1,1.5],'a2':[1.5,12.],'a3':[0.075,24.],'a4':[1.5,37.],'a5':[0.1,1.]}\n",
    "for i in range(number_stars):\n",
    "\tvariable_params.update({'rhoc_' + str(i+1):[14.6, 16]})\n",
    "\n",
    "# Define static parameters, empty dict because all params are variable \n",
    "static_params={}\n",
    "\n",
    "# Define prior\n",
    "prior = Prior(speedofsound_cs, variable_params, static_params, chirp_mass)\n",
    "\n",
    "print(\"Bounds of prior are\")\n",
    "print(variable_params)\n",
    "print(\"number of parameters is %d\" %len(variable_params))\n",
    "\n",
    "# Define likelihood, pseudo_var is required as input because NEoST expects to be able to pass the parameter sample drawn from the prior to be passable to the likelihood\n",
    "def loglike(pseudo_var):\n",
    "    return 1."
   ]
  },
  {
   "cell_type": "code",
   "execution_count": null,
   "id": "075dd75b",
   "metadata": {},
   "outputs": [],
   "source": [
    "# No prior & likelihood test, there is no likelihood after all\n",
    "# print(\"Testing prior and likelihood\")\n",
    "# cube = np.random.rand(50, len(variable_params))\n",
    "# for i in range(len(cube)):\n",
    "#     par = prior.inverse_sample(cube[i])\n",
    "#     print(likelihood.call(par))\n",
    "# print(\"Testing done\")"
   ]
  },
  {
   "cell_type": "code",
   "execution_count": null,
   "id": "31d26df6",
   "metadata": {},
   "outputs": [],
   "source": [
    "# Then we start the sampling, note the greatly increased number of livepoints, this is required because each livepoint terminates after 1 iteration\n",
    "start = time.time()\n",
    "result = solve(LogLikelihood=loglike, Prior=prior.inverse_sample, n_live_points=100000, evidence_tolerance=0.1,\n",
    "               n_dims=len(variable_params), sampling_efficiency=0.8, outputfiles_basename='chains/' + run_name, verbose=True)\n",
    "end = time.time()\n",
    "print(end - start)"
   ]
  },
  {
   "cell_type": "code",
   "execution_count": null,
   "id": "078eb720",
   "metadata": {},
   "outputs": [],
   "source": [
    "# Compute auxiliary data for posterior analysis\n",
    "PosteriorAnalysis.compute_auxiliary_data('chains/' + run_name, speedofsound_cs,\n",
    "                                         variable_params, static_params, chirp_mass)\n",
    "\n",
    "\n",
    "# Make some analysis plots\n",
    "PosteriorAnalysis.cornerplot('chains/' + run_name, variable_params)\n",
    "PosteriorAnalysis.mass_radius_posterior_plot('chains/' + run_name)\n",
    "PosteriorAnalysis.mass_radius_prior_predictive_plot('chains/' + run_name,variable_params, label_name='+ J0740 dataset')\n",
    "PosteriorAnalysis.eos_posterior_plot('chains/' + run_name_variable_params)"
   ]
  }
 ],
 "metadata": {
  "kernelspec": {
   "display_name": "Python 3",
   "language": "python",
   "name": "python3"
  },
  "language_info": {
   "codemirror_mode": {
    "name": "ipython",
    "version": 3
   },
   "file_extension": ".py",
   "mimetype": "text/x-python",
   "name": "python",
   "nbconvert_exporter": "python",
   "pygments_lexer": "ipython3",
   "version": "3.8.8"
  }
 },
 "nbformat": 4,
 "nbformat_minor": 5
}
