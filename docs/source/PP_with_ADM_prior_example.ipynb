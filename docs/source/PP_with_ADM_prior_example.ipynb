{
 "cells": [
  {
   "cell_type": "markdown",
   "id": "53f92dfd-3e85-42c1-8135-f8c7d7bda262",
   "metadata": {},
   "source": [
    "# Piecewise Polytropic Prior with ADM Example\n",
    "\n",
    "The main purpose of this code is to demonstrate how one can fix the prior-likelihood to a constant value and use multinest to sample the prior space log-uniformly with asymmetric dark matter(ADM) present. Within this script, one can use the ``PosteriorAnalysis.py``script to generate the prior axuiliary data and the prior 95% confidence intervals. \n",
    "\n",
    "\n",
    "The following block of code will properly import NEoST and its prerequisites, furthermore it also defines a name for the inference run, this name is what will be prefixed to all of NEoST's output files.\n",
    "\n",
    "The machinary used within this script and the explanation of them is identical to those found in the Piecewise Polytropic, Speed of Sound, and Tabulated Examples."
   ]
  },
  {
   "cell_type": "code",
   "execution_count": 1,
   "id": "17f8c329-0037-47e6-9794-7e1b269f0a0a",
   "metadata": {},
   "outputs": [],
   "source": [
    "import neost\n",
    "from neost.eos import polytropes\n",
    "from neost.Prior import Prior\n",
    "from neost.Star import Star\n",
    "from neost.Likelihood import Likelihood\n",
    "from neost import PosteriorAnalysis\n",
    "from scipy.stats import multivariate_normal\n",
    "from scipy.stats import gaussian_kde\n",
    "import numpy as np\n",
    "import matplotlib\n",
    "from matplotlib import pyplot as plt\n",
    "from pymultinest.solve import solve\n",
    "import time\n",
    "import os\n",
    "if not os.path.exists(\"chains\"): \n",
    "   os.mkdir(\"chains\")\n",
    "\n",
    "import neost.global_imports as global_imports\n",
    "\n",
    "# Some physical constants\n",
    "c = global_imports._c\n",
    "G = global_imports._G\n",
    "Msun = global_imports._M_s\n",
    "pi = global_imports._pi\n",
    "rho_ns = global_imports._rhons"
   ]
  },
  {
   "cell_type": "markdown",
   "id": "368e3c9f-4a21-4834-82dc-8b670fd7932f",
   "metadata": {},
   "source": [
    "Below, we define the piecewise polytripic equation of state model, import the J0740 likelihood function, set the ADM particle type to be a boson, and set whether we want to calculate ADM halos as well as the two-fluid tidal deformability. Note, both dm_halo and two_fluid_tidal are set to be False by default, so a user doesn't need to define them before-hand if they don't want to consider them in their inference. We wanted to highlight these parameters so that one knew where to define them in the event that either parameter were to be considered. "
   ]
  },
  {
   "cell_type": "code",
   "execution_count": 2,
   "id": "f3f3d53d-fe5d-4426-b2c4-4ed1a8da9613",
   "metadata": {},
   "outputs": [],
   "source": [
    "# Define name for run\n",
    "run_name = \"prior-hebeler-pp-bosonic-adm-\"\n",
    "\n",
    "# We're exploring a polytropic (P) EoS parametrization with a chiral effective field theory (CEFT) parametrization based on Hebeler's work\n",
    "# Transition between CS parametrisation and CEFT parametrization occurs at 1.1*saturation density\n",
    "polytropes_pp = polytropes.PolytropicEoS(crust = 'ceft-Hebeler', rho_t = 1.1*rho_ns, adm_type = 'Bosonic',dm_halo = False,two_fluid_tidal = False)"
   ]
  },
  {
   "cell_type": "markdown",
   "id": "ed4a16a3-be73-43a2-a70c-fbbf2bfd3658",
   "metadata": {},
   "source": [
    "Below, we define the piecewise polytripic equation of state model, import the J0740 likelihood function, and set the variable paramaeters with their respective prior space intervals depending on the their `adm_type` string parameter value. This is because the ADM priors are dependent on if one specifies that it is a boson or fermion."
   ]
  },
  {
   "cell_type": "code",
   "execution_count": 3,
   "id": "11c82acb-3c14-4ad9-be7c-8bf95264d601",
   "metadata": {},
   "outputs": [
    {
     "name": "stdout",
     "output_type": "stream",
     "text": [
      "Bosonic\n"
     ]
    }
   ],
   "source": [
    "# Create the likelihoods for the individual measurements\n",
    "mass_radius_j0740 = np.load('j0740.npy').T\n",
    "J0740_LL = gaussian_kde(mass_radius_j0740)\n",
    "\n",
    "# Pass the likelihoods to the solver\n",
    "likelihood_functions = [J0740_LL.pdf]\n",
    "likelihood_params = [['Mass', 'Radius']]\n",
    "\n",
    "# Define whether event is GW or not and define number of stars/events\n",
    "chirp_mass = [None]\n",
    "number_stars = len(chirp_mass)\n",
    "\n",
    "# Define variable parameters, same prior as previous papers of Raaijmakers et al\n",
    "\n",
    "print(polytropes_pp.adm_type)\n",
    "if polytropes_pp.adm_type == 'Bosonic':\n",
    "    variable_params={'ceft':[polytropes_pp.min_norm, polytropes_pp.max_norm],'gamma1':[1.,4.5],'gamma2':[0.,8.],'gamma3':[0.5,8.],'rho_t1':[1.5,8.3],'rho_t2':[1.5,8.3],\n",
    "                    'mchi':[-2, 8],'gchi_over_mphi': [-3,3],'adm_fraction':[0., 5.]}\n",
    "elif polytropes_pp.adm_type == 'Fermionic':\n",
    "    variable_params={'ceft':[polytropes_pp.min_norm, polytropes_pp.max_norm],'gamma1':[1.,4.5],'gamma2':[0.,8.],'gamma3':[0.5,8.],'rho_t1':[1.5,8.3],'rho_t2':[1.5,8.3],\n",
    "                    'mchi':[-2, 9],'gchi_over_mphi': [-5,3],'adm_fraction':[0., 1.7]}\n",
    "\n",
    "if polytropes_pp.adm_type == 'None':\n",
    "    variable_params={'ceft':[polytropes_pp.min_norm, polytropes_pp.max_norm],'gamma1':[1.,4.5],'gamma2':[0.,8.],'gamma3':[0.5,8.],'rho_t1':[1.5,8.3],'rho_t2':[1.5,8.3]}\n",
    "\n",
    "#Note if the user wants to have a seperate adm_fraction per source, include it below via\n",
    "#'adm_fraction_' + str(i+1):[0., 5.]. And eliminate the adm_fraction above, as that is to assume all Neutron stars have the same amount of adm_fraction\n",
    "for i in range(number_stars):\n",
    "\tvariable_params.update({'rhoc_' + str(i+1):[14.6, 16]})\n",
    "\n",
    "# Define static parameters, empty dict because all params are variable \n",
    "static_params={}"
   ]
  },
  {
   "cell_type": "markdown",
   "id": "fb3bb3c6-5c98-418c-8f50-334ce0f6b759",
   "metadata": {},
   "source": [
    "Finally, the prior object must be created using the following function call:`neost.Prior.Prior(EOS, variable_params, static_params, chirp_masses)` where the `EOS` argument is the equation of state object that was created in the previous step. When this prior is called it will then uniformly sample sets of parameters from the defined parameter ranges.\n",
    "\n",
    "The likelihood is defined by providing both the previously defined prior object and the likelihood functions defined in the previous codeblock. This is done with the following code: `likelihood = Likelihood(prior, likelihood_functions, likelihood_params, chirp_mass)`"
   ]
  },
  {
   "cell_type": "code",
   "execution_count": 4,
   "id": "0b6f47fe-52b1-4a48-8586-4fa90e94b8c4",
   "metadata": {},
   "outputs": [
    {
     "name": "stdout",
     "output_type": "stream",
     "text": [
      "Bounds of prior are\n",
      "{'ceft': [1.676, 2.814], 'gamma1': [1.0, 4.5], 'gamma2': [0.0, 8.0], 'gamma3': [0.5, 8.0], 'rho_t1': [1.5, 8.3], 'rho_t2': [1.5, 8.3], 'mchi': [-2, 8], 'gchi_over_mphi': [-3, 3], 'adm_fraction': [0.0, 5.0], 'rhoc_1': [14.6, 16]}\n",
      "number of parameters is 10\n"
     ]
    }
   ],
   "source": [
    "# Define prior\n",
    "prior = Prior(polytropes_pp, variable_params, static_params, chirp_mass)\n",
    "likelihood = Likelihood(prior, likelihood_functions, likelihood_params, chirp_mass)\n",
    "\n",
    "print(\"Bounds of prior are\")\n",
    "print(variable_params)\n",
    "print(\"number of parameters is %d\" %len(variable_params))\n"
   ]
  },
  {
   "cell_type": "markdown",
   "id": "ef9e79c0-4566-49c5-9de8-0e61f88032f4",
   "metadata": {},
   "source": [
    "## When finished with testing your likelihood and prior you can proceed to the actual inference process. This is done in the code block below. Warning: depending on the performance of your platform, this might be a very slow process. To make it slightly faster, we have decreased the number of live points and set a maximum number of iterations for this example. For a proper analysis, we would remove the max_iter argument and set, for example, n_live_points=30000."
   ]
  },
  {
   "cell_type": "code",
   "execution_count": null,
   "id": "689435b9-1236-4da1-9338-99e9dc7c0752",
   "metadata": {},
   "outputs": [
    {
     "name": "stdout",
     "output_type": "stream",
     "text": [
      " MultiNest Warning: no resume file found, starting from scratch\n",
      " *****************************************************\n",
      " MultiNest v3.10\n",
      " Copyright Farhan Feroz & Mike Hobson\n",
      " Release Jul 2015\n",
      "\n",
      " no. of live points = 5000\n",
      " dimensionality =   10\n",
      " *****************************************************\n",
      " Starting MultiNest\n",
      " generating live points\n"
     ]
    },
    {
     "name": "stderr",
     "output_type": "stream",
     "text": [
      "Exception ignored on calling ctypes callback function: <function run.<locals>.loglike at 0x7f07983b1260>\n",
      "Traceback (most recent call last):\n",
      "  File \"/home/nr1118/anaconda3/envs/neost/lib/python3.12/site-packages/pymultinest/run.py\", line 223, in loglike\n",
      "    return LogLikelihood(cube, ndim, nparams, lnew)\n",
      "           ^^^^^^^^^^^^^^^^^^^^^^^^^^^^^^^^^^^^^^^^\n",
      "  File \"/home/nr1118/anaconda3/envs/neost/lib/python3.12/site-packages/pymultinest/solve.py\", line 56, in SafeLoglikelihood\n",
      "    l = float(LogLikelihood(a))\n",
      "              ^^^^^^^^^^^^^^^^\n",
      "  File \"/home/nr1118/anaconda3/envs/neost/lib/python3.12/site-packages/neost/Likelihood.py\", line 172, in loglike_prior\n",
      "    epsdm_cent = self.prior.EOS.find_epsdm_cent(ADM_fraction=pr_dict['adm_fraction'],\n",
      "                 ^^^^^^^^^^^^^^^^^^^^^^^^^^^^^^^^^^^^^^^^^^^^^^^^^^^^^^^^^^^^^^^^^^^^\n",
      "  File \"/home/nr1118/anaconda3/envs/neost/lib/python3.12/site-packages/neost/eos/base.py\", line 393, in find_epsdm_cent\n",
      "    sol = optimize.brenth(f,1e22 ,1e24,maxiter = 3000,xtol = 1e-24,full_output = True)\n",
      "          ^^^^^^^^^^^^^^^^^^^^^^^^^^^^^^^^^^^^^^^^^^^^^^^^^^^^^^^^^^^^^^^^^^^^^^^^^^^^\n",
      "  File \"/home/nr1118/anaconda3/envs/neost/lib/python3.12/site-packages/scipy/optimize/_zeros_py.py\", line 917, in brenth\n",
      "    r = _zeros._brenth(f, a, b, xtol, rtol, maxiter, args, full_output, disp)\n",
      "        ^^^^^^^^^^^^^^^^^^^^^^^^^^^^^^^^^^^^^^^^^^^^^^^^^^^^^^^^^^^^^^^^^^^^^\n",
      "  File \"/home/nr1118/anaconda3/envs/neost/lib/python3.12/site-packages/scipy/optimize/_zeros_py.py\", line 94, in f_raise\n",
      "    fx = f(x, *args)\n",
      "         ^^^^^^^^^^^\n",
      "  File \"/home/nr1118/anaconda3/envs/neost/lib/python3.12/site-packages/neost/eos/base.py\", line 375, in <lambda>\n",
      "    f = lambda y: self.f_chi_calc(epscent,y) - ADM_fraction\n",
      "                  ^^^^^^^^^^^^^^^^^^^^^^^^^^\n",
      "  File \"/home/nr1118/anaconda3/envs/neost/lib/python3.12/site-packages/neost/eos/base.py\", line 365, in f_chi_calc\n",
      "    star.solve_structure(self.energydensities, self.pressures, self.energydensities_dm, self.pressures_dm,self.dm_halo)\n",
      "  File \"/home/nr1118/anaconda3/envs/neost/lib/python3.12/site-packages/neost/Star.py\", line 83, in solve_structure\n",
      "    self.Mb, self.Rns, self.Mdm_core, self.Mdm_halo, self.radius_dm_core, self.radius_dm_halo, self.tidal = solveTOVdm(self.epscent, self.epscent_dm, eps, pres, eps_dm, pres_dm, dm_halo,two_fluid_tidal, atol, rtol, hmax, step)\n",
      "                                                                                                            ^^^^^^^^^^^^^^^^^^^^^^^^^^^^^^^^^^^^^^^^^^^^^^^^^^^^^^^^^^^^^^^^^^^^^^^^^^^^^^^^^^^^^^^^^^^^^^^^^^^^^^^^^^^^^^^^^^^^^^\n",
      "  File \"neost/tovsolvers/TOVdm.pyx\", line 179, in neost.tovsolvers.TOVdm.solveTOVdm\n",
      "  File \"/home/nr1118/anaconda3/envs/neost/lib/python3.12/site-packages/numpy/lib/arraysetops.py\", line 133, in _unique_dispatcher\n",
      "    def _unique_dispatcher(ar, return_index=None, return_inverse=None,\n",
      "    \n",
      "KeyboardInterrupt: \n"
     ]
    }
   ],
   "source": [
    "# Then we start the sampling, note the greatly increased number of livepoints, this is required because each livepoint terminates after 1 iteration\n",
    "start = time.time()\n",
    "result = solve(LogLikelihood=likelihood.loglike_prior, Prior=prior.inverse_sample, n_live_points=1000, evidence_tolerance=0.1,\n",
    "               n_dims=len(variable_params), sampling_efficiency=0.8, outputfiles_basename='chains/' + run_name, verbose=True, resume = True)\n",
    "end = time.time()\n",
    "print(end - start)"
   ]
  },
  {
   "cell_type": "code",
   "execution_count": null,
   "id": "a9955803-6db3-4bfa-bc73-bfad31750343",
   "metadata": {},
   "outputs": [],
   "source": [
    "PosteriorAnalysis.compute_prior_auxiliary_data('chains/' + run_name, polytropes_pp,\n",
    "                                        variable_params, static_params,dm = True)"
   ]
  },
  {
   "cell_type": "code",
   "execution_count": null,
   "id": "7b07e196-e7a0-4fd7-85e0-4d926ef9d164",
   "metadata": {},
   "outputs": [],
   "source": [
    "PosteriorAnalysis.cornerplot('chains/' + run_name, variable_params, dm = True)"
   ]
  },
  {
   "cell_type": "code",
   "execution_count": null,
   "id": "7ea26b50-6ac6-4151-90bf-940f0d752175",
   "metadata": {},
   "outputs": [],
   "source": [
    "PosteriorAnalysis.mass_radius_posterior_plot('chains/' + run_name)"
   ]
  },
  {
   "cell_type": "code",
   "execution_count": null,
   "id": "1463fff4-f9c1-4420-84a0-703806ac460a",
   "metadata": {},
   "outputs": [],
   "source": [
    "PosteriorAnalysis.mass_radius_prior_predictive_plot('chains/' + run_name,variable_params, label_name='+ J0740 dataset')"
   ]
  },
  {
   "cell_type": "code",
   "execution_count": null,
   "id": "399339bb-c70d-432a-9fa5-729f27ba924a",
   "metadata": {},
   "outputs": [],
   "source": [
    "PosteriorAnalysis.eos_posterior_plot('chains/' + run_name,variable_params)"
   ]
  }
 ],
 "metadata": {
  "kernelspec": {
   "display_name": "Python 3 (ipykernel)",
   "language": "python",
   "name": "python3"
  },
  "language_info": {
   "codemirror_mode": {
    "name": "ipython",
    "version": 3
   },
   "file_extension": ".py",
   "mimetype": "text/x-python",
   "name": "python",
   "nbconvert_exporter": "python",
   "pygments_lexer": "ipython3",
   "version": "3.12.4"
  }
 },
 "nbformat": 4,
 "nbformat_minor": 5
}
